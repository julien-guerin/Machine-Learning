{
 "cells": [
  {
   "cell_type": "markdown",
   "metadata": {},
   "source": [
    "This project is based on a Kaggle competition.<br>\n",
    "This data set contains information about applicants for a loan. The goal of this project is to build a classifier model that is able to accurately predict whether we should grant the loan or no to the applicant."
   ]
  },
  {
   "cell_type": "code",
   "execution_count": 1,
   "metadata": {},
   "outputs": [],
   "source": [
    "import pandas as pd\n",
    "import matplotlib.pyplot as plt\n",
    "import numpy as np\n",
    "import seaborn as sns\n",
    "\n",
    "from sklearn.preprocessing import LabelEncoder,MinMaxScaler\n",
    "from sklearn.model_selection import train_test_split, GridSearchCV\n",
    "\n",
    "from sklearn.neighbors import KNeighborsClassifier\n",
    "from sklearn.linear_model import LogisticRegression\n",
    "from sklearn.tree import DecisionTreeClassifier\n",
    "\n",
    "from sklearn.metrics import confusion_matrix, roc_curve, auc\n",
    "from sklearn.metrics import f1_score, recall_score, precision_score\n",
    "\n",
    "import warnings\n",
    "warnings.filterwarnings('ignore')\n",
    "\n",
    "plt.style.use('ggplot')\n",
    "%matplotlib inline"
   ]
  },
  {
   "cell_type": "markdown",
   "metadata": {},
   "source": [
    "__IMPORT AND UNDERSTANDING THE DATA__"
   ]
  },
  {
   "cell_type": "code",
   "execution_count": 2,
   "metadata": {},
   "outputs": [
    {
     "data": {
      "text/html": [
       "<div>\n",
       "<style scoped>\n",
       "    .dataframe tbody tr th:only-of-type {\n",
       "        vertical-align: middle;\n",
       "    }\n",
       "\n",
       "    .dataframe tbody tr th {\n",
       "        vertical-align: top;\n",
       "    }\n",
       "\n",
       "    .dataframe thead th {\n",
       "        text-align: right;\n",
       "    }\n",
       "</style>\n",
       "<table border=\"1\" class=\"dataframe\">\n",
       "  <thead>\n",
       "    <tr style=\"text-align: right;\">\n",
       "      <th></th>\n",
       "      <th>Loan_ID</th>\n",
       "      <th>Gender</th>\n",
       "      <th>Married</th>\n",
       "      <th>Dependents</th>\n",
       "      <th>Education</th>\n",
       "      <th>Self_Employed</th>\n",
       "      <th>ApplicantIncome</th>\n",
       "      <th>CoapplicantIncome</th>\n",
       "      <th>LoanAmount</th>\n",
       "      <th>Loan_Amount_Term</th>\n",
       "      <th>Credit_History</th>\n",
       "      <th>Property_Area</th>\n",
       "      <th>Loan_Status</th>\n",
       "    </tr>\n",
       "  </thead>\n",
       "  <tbody>\n",
       "    <tr>\n",
       "      <th>0</th>\n",
       "      <td>LP001002</td>\n",
       "      <td>Male</td>\n",
       "      <td>No</td>\n",
       "      <td>0</td>\n",
       "      <td>Graduate</td>\n",
       "      <td>No</td>\n",
       "      <td>5849</td>\n",
       "      <td>0.0</td>\n",
       "      <td>NaN</td>\n",
       "      <td>360.0</td>\n",
       "      <td>1.0</td>\n",
       "      <td>Urban</td>\n",
       "      <td>Y</td>\n",
       "    </tr>\n",
       "    <tr>\n",
       "      <th>1</th>\n",
       "      <td>LP001003</td>\n",
       "      <td>Male</td>\n",
       "      <td>Yes</td>\n",
       "      <td>1</td>\n",
       "      <td>Graduate</td>\n",
       "      <td>No</td>\n",
       "      <td>4583</td>\n",
       "      <td>1508.0</td>\n",
       "      <td>128.0</td>\n",
       "      <td>360.0</td>\n",
       "      <td>1.0</td>\n",
       "      <td>Rural</td>\n",
       "      <td>N</td>\n",
       "    </tr>\n",
       "    <tr>\n",
       "      <th>2</th>\n",
       "      <td>LP001005</td>\n",
       "      <td>Male</td>\n",
       "      <td>Yes</td>\n",
       "      <td>0</td>\n",
       "      <td>Graduate</td>\n",
       "      <td>Yes</td>\n",
       "      <td>3000</td>\n",
       "      <td>0.0</td>\n",
       "      <td>66.0</td>\n",
       "      <td>360.0</td>\n",
       "      <td>1.0</td>\n",
       "      <td>Urban</td>\n",
       "      <td>Y</td>\n",
       "    </tr>\n",
       "    <tr>\n",
       "      <th>3</th>\n",
       "      <td>LP001006</td>\n",
       "      <td>Male</td>\n",
       "      <td>Yes</td>\n",
       "      <td>0</td>\n",
       "      <td>Not Graduate</td>\n",
       "      <td>No</td>\n",
       "      <td>2583</td>\n",
       "      <td>2358.0</td>\n",
       "      <td>120.0</td>\n",
       "      <td>360.0</td>\n",
       "      <td>1.0</td>\n",
       "      <td>Urban</td>\n",
       "      <td>Y</td>\n",
       "    </tr>\n",
       "    <tr>\n",
       "      <th>4</th>\n",
       "      <td>LP001008</td>\n",
       "      <td>Male</td>\n",
       "      <td>No</td>\n",
       "      <td>0</td>\n",
       "      <td>Graduate</td>\n",
       "      <td>No</td>\n",
       "      <td>6000</td>\n",
       "      <td>0.0</td>\n",
       "      <td>141.0</td>\n",
       "      <td>360.0</td>\n",
       "      <td>1.0</td>\n",
       "      <td>Urban</td>\n",
       "      <td>Y</td>\n",
       "    </tr>\n",
       "  </tbody>\n",
       "</table>\n",
       "</div>"
      ],
      "text/plain": [
       "    Loan_ID Gender Married Dependents     Education Self_Employed  \\\n",
       "0  LP001002   Male      No          0      Graduate            No   \n",
       "1  LP001003   Male     Yes          1      Graduate            No   \n",
       "2  LP001005   Male     Yes          0      Graduate           Yes   \n",
       "3  LP001006   Male     Yes          0  Not Graduate            No   \n",
       "4  LP001008   Male      No          0      Graduate            No   \n",
       "\n",
       "   ApplicantIncome  CoapplicantIncome  LoanAmount  Loan_Amount_Term  \\\n",
       "0             5849                0.0         NaN             360.0   \n",
       "1             4583             1508.0       128.0             360.0   \n",
       "2             3000                0.0        66.0             360.0   \n",
       "3             2583             2358.0       120.0             360.0   \n",
       "4             6000                0.0       141.0             360.0   \n",
       "\n",
       "   Credit_History Property_Area Loan_Status  \n",
       "0             1.0         Urban           Y  \n",
       "1             1.0         Rural           N  \n",
       "2             1.0         Urban           Y  \n",
       "3             1.0         Urban           Y  \n",
       "4             1.0         Urban           Y  "
      ]
     },
     "execution_count": 2,
     "metadata": {},
     "output_type": "execute_result"
    }
   ],
   "source": [
    "# Read data\n",
    "data = pd.read_csv('loan_classification.csv')\n",
    "data.head()"
   ]
  },
  {
   "cell_type": "code",
   "execution_count": 3,
   "metadata": {},
   "outputs": [
    {
     "name": "stdout",
     "output_type": "stream",
     "text": [
      "<class 'pandas.core.frame.DataFrame'>\n",
      "RangeIndex: 614 entries, 0 to 613\n",
      "Data columns (total 13 columns):\n",
      "Loan_ID              614 non-null object\n",
      "Gender               601 non-null object\n",
      "Married              611 non-null object\n",
      "Dependents           599 non-null object\n",
      "Education            614 non-null object\n",
      "Self_Employed        582 non-null object\n",
      "ApplicantIncome      614 non-null int64\n",
      "CoapplicantIncome    614 non-null float64\n",
      "LoanAmount           592 non-null float64\n",
      "Loan_Amount_Term     600 non-null float64\n",
      "Credit_History       564 non-null float64\n",
      "Property_Area        614 non-null object\n",
      "Loan_Status          614 non-null object\n",
      "dtypes: float64(4), int64(1), object(8)\n",
      "memory usage: 62.4+ KB\n",
      "None \n",
      "\n",
      "       ApplicantIncome  CoapplicantIncome  LoanAmount  Loan_Amount_Term  \\\n",
      "count       614.000000         614.000000  592.000000         600.00000   \n",
      "mean       5403.459283        1621.245798  146.412162         342.00000   \n",
      "std        6109.041673        2926.248369   85.587325          65.12041   \n",
      "min         150.000000           0.000000    9.000000          12.00000   \n",
      "25%        2877.500000           0.000000  100.000000         360.00000   \n",
      "50%        3812.500000        1188.500000  128.000000         360.00000   \n",
      "75%        5795.000000        2297.250000  168.000000         360.00000   \n",
      "max       81000.000000       41667.000000  700.000000         480.00000   \n",
      "\n",
      "       Credit_History  \n",
      "count      564.000000  \n",
      "mean         0.842199  \n",
      "std          0.364878  \n",
      "min          0.000000  \n",
      "25%          1.000000  \n",
      "50%          1.000000  \n",
      "75%          1.000000  \n",
      "max          1.000000  \n"
     ]
    }
   ],
   "source": [
    "print(data.info(), '\\n')\n",
    "print(data.describe())"
   ]
  },
  {
   "cell_type": "code",
   "execution_count": 4,
   "metadata": {},
   "outputs": [],
   "source": [
    "# Delete the 1st column\n",
    "data.drop('Loan_ID', axis=1, inplace=True)"
   ]
  },
  {
   "cell_type": "code",
   "execution_count": 6,
   "metadata": {},
   "outputs": [
    {
     "data": {
      "image/png": "[encoded data removed]",
      "text/plain": [
       "<Figure size 432x288 with 4 Axes>"
      ]
     },
     "metadata": {
      "needs_background": "light"
     },
     "output_type": "display_data"
    }
   ],
   "source": [
    "# Histogram of the numerical columns\n",
    "data[['ApplicantIncome', 'CoapplicantIncome', \n",
    "      'LoanAmount', 'Loan_Amount_Term']].hist(bins=20)\n",
    "\n",
    "plt.tight_layout()\n",
    "plt.show()"
   ]
  },
  {
   "cell_type": "markdown",
   "metadata": {},
   "source": [
    "Let's check the data repartition of the categorial variables."
   ]
  },
  {
   "cell_type": "code",
   "execution_count": 7,
   "metadata": {},
   "outputs": [
    {
     "name": "stdout",
     "output_type": "stream",
     "text": [
      "Gender repartition\n",
      "Male      489\n",
      "Female    112\n",
      "Name: Gender, dtype: int64 \n",
      "\n",
      "Education level\n",
      "Graduate        480\n",
      "Not Graduate    134\n",
      "Name: Education, dtype: int64 \n",
      "\n",
      "Self-Employed\n",
      "No     500\n",
      "Yes     82\n",
      "Name: Self_Employed, dtype: int64 \n",
      "\n",
      "Credit history\n",
      "1.0    475\n",
      "0.0     89\n",
      "Name: Credit_History, dtype: int64 \n",
      "\n",
      "Property area\n",
      "Semiurban    233\n",
      "Urban        202\n",
      "Rural        179\n",
      "Name: Property_Area, dtype: int64 \n",
      "\n",
      "Number of dependents\n",
      "0     345\n",
      "1     102\n",
      "2     101\n",
      "3+     51\n",
      "Name: Dependents, dtype: int64\n"
     ]
    }
   ],
   "source": [
    "print('Gender repartition')\n",
    "print(data['Gender'].value_counts(), '\\n')\n",
    "\n",
    "print('Education level')\n",
    "print(data['Education'].value_counts(), '\\n')\n",
    "\n",
    "print('Self-Employed')\n",
    "print(data['Self_Employed'].value_counts(), '\\n')\n",
    "\n",
    "print('Credit history')\n",
    "print(data['Credit_History'].value_counts(), '\\n')\n",
    "\n",
    "print('Property area')\n",
    "print(data['Property_Area'].value_counts(), '\\n')\n",
    "\n",
    "print('Number of dependents')\n",
    "print(data['Dependents'].value_counts())"
   ]
  },
  {
   "cell_type": "markdown",
   "metadata": {},
   "source": [
    "__FEATURES ENGINEERING__\n",
    "\n",
    "Missing values"
   ]
  },
  {
   "cell_type": "code",
   "execution_count": 8,
   "metadata": {},
   "outputs": [
    {
     "data": {
      "text/plain": [
       "Gender               13\n",
       "Married               3\n",
       "Dependents           15\n",
       "Education             0\n",
       "Self_Employed        32\n",
       "ApplicantIncome       0\n",
       "CoapplicantIncome     0\n",
       "LoanAmount           22\n",
       "Loan_Amount_Term     14\n",
       "Credit_History       50\n",
       "Property_Area         0\n",
       "Loan_Status           0\n",
       "dtype: int64"
      ]
     },
     "execution_count": 8,
     "metadata": {},
     "output_type": "execute_result"
    }
   ],
   "source": [
    "# Nan values for each column\n",
    "data.isna().sum()"
   ]
  },
  {
   "cell_type": "code",
   "execution_count": 9,
   "metadata": {},
   "outputs": [],
   "source": [
    "# Replacement by the mean or mode\n",
    "for col in data.columns.values :\n",
    "    # Categorical values\n",
    "    if data[col].dtype == 'object' :\n",
    "        data[col].fillna(value = data[col].value_counts().index[0], \n",
    "                         inplace = True)\n",
    "    # Numerical values\n",
    "    else : \n",
    "        data[col].fillna(value = data[col].mean(), \n",
    "                         inplace = True)"
   ]
  },
  {
   "cell_type": "code",
   "execution_count": 10,
   "metadata": {},
   "outputs": [
    {
     "data": {
      "text/plain": [
       "0"
      ]
     },
     "execution_count": 10,
     "metadata": {},
     "output_type": "execute_result"
    }
   ],
   "source": [
    "data.columns.isna().sum()"
   ]
  },
  {
   "cell_type": "markdown",
   "metadata": {},
   "source": [
    "We now have 0 missing values.\n",
    "\n",
    "Let's encode the label (we transform the categorical variables into numerical digits such as 1 for Female, 2 for Men for example)."
   ]
  },
  {
   "cell_type": "code",
   "execution_count": 11,
   "metadata": {},
   "outputs": [
    {
     "data": {
      "text/html": [
       "<div>\n",
       "<style scoped>\n",
       "    .dataframe tbody tr th:only-of-type {\n",
       "        vertical-align: middle;\n",
       "    }\n",
       "\n",
       "    .dataframe tbody tr th {\n",
       "        vertical-align: top;\n",
       "    }\n",
       "\n",
       "    .dataframe thead th {\n",
       "        text-align: right;\n",
       "    }\n",
       "</style>\n",
       "<table border=\"1\" class=\"dataframe\">\n",
       "  <thead>\n",
       "    <tr style=\"text-align: right;\">\n",
       "      <th></th>\n",
       "      <th>ApplicantIncome</th>\n",
       "      <th>CoapplicantIncome</th>\n",
       "      <th>LoanAmount</th>\n",
       "      <th>Loan_Amount_Term</th>\n",
       "      <th>Gender_Male</th>\n",
       "      <th>Married_Yes</th>\n",
       "      <th>Education_Not Graduate</th>\n",
       "      <th>Dependents_1</th>\n",
       "      <th>Dependents_2</th>\n",
       "      <th>Dependents_3+</th>\n",
       "      <th>Self_Employed_Yes</th>\n",
       "      <th>Property_Area_Semiurban</th>\n",
       "      <th>Property_Area_Urban</th>\n",
       "      <th>Credit_History_0.8421985815602837</th>\n",
       "      <th>Credit_History_1.0</th>\n",
       "      <th>Loan_Status_Y</th>\n",
       "    </tr>\n",
       "  </thead>\n",
       "  <tbody>\n",
       "    <tr>\n",
       "      <th>0</th>\n",
       "      <td>5849</td>\n",
       "      <td>0.0</td>\n",
       "      <td>146.412162</td>\n",
       "      <td>360.0</td>\n",
       "      <td>1</td>\n",
       "      <td>0</td>\n",
       "      <td>0</td>\n",
       "      <td>0</td>\n",
       "      <td>0</td>\n",
       "      <td>0</td>\n",
       "      <td>0</td>\n",
       "      <td>0</td>\n",
       "      <td>1</td>\n",
       "      <td>0</td>\n",
       "      <td>1</td>\n",
       "      <td>1</td>\n",
       "    </tr>\n",
       "    <tr>\n",
       "      <th>1</th>\n",
       "      <td>4583</td>\n",
       "      <td>1508.0</td>\n",
       "      <td>128.000000</td>\n",
       "      <td>360.0</td>\n",
       "      <td>1</td>\n",
       "      <td>1</td>\n",
       "      <td>0</td>\n",
       "      <td>1</td>\n",
       "      <td>0</td>\n",
       "      <td>0</td>\n",
       "      <td>0</td>\n",
       "      <td>0</td>\n",
       "      <td>0</td>\n",
       "      <td>0</td>\n",
       "      <td>1</td>\n",
       "      <td>0</td>\n",
       "    </tr>\n",
       "    <tr>\n",
       "      <th>2</th>\n",
       "      <td>3000</td>\n",
       "      <td>0.0</td>\n",
       "      <td>66.000000</td>\n",
       "      <td>360.0</td>\n",
       "      <td>1</td>\n",
       "      <td>1</td>\n",
       "      <td>0</td>\n",
       "      <td>0</td>\n",
       "      <td>0</td>\n",
       "      <td>0</td>\n",
       "      <td>1</td>\n",
       "      <td>0</td>\n",
       "      <td>1</td>\n",
       "      <td>0</td>\n",
       "      <td>1</td>\n",
       "      <td>1</td>\n",
       "    </tr>\n",
       "    <tr>\n",
       "      <th>3</th>\n",
       "      <td>2583</td>\n",
       "      <td>2358.0</td>\n",
       "      <td>120.000000</td>\n",
       "      <td>360.0</td>\n",
       "      <td>1</td>\n",
       "      <td>1</td>\n",
       "      <td>1</td>\n",
       "      <td>0</td>\n",
       "      <td>0</td>\n",
       "      <td>0</td>\n",
       "      <td>0</td>\n",
       "      <td>0</td>\n",
       "      <td>1</td>\n",
       "      <td>0</td>\n",
       "      <td>1</td>\n",
       "      <td>1</td>\n",
       "    </tr>\n",
       "    <tr>\n",
       "      <th>4</th>\n",
       "      <td>6000</td>\n",
       "      <td>0.0</td>\n",
       "      <td>141.000000</td>\n",
       "      <td>360.0</td>\n",
       "      <td>1</td>\n",
       "      <td>0</td>\n",
       "      <td>0</td>\n",
       "      <td>0</td>\n",
       "      <td>0</td>\n",
       "      <td>0</td>\n",
       "      <td>0</td>\n",
       "      <td>0</td>\n",
       "      <td>1</td>\n",
       "      <td>0</td>\n",
       "      <td>1</td>\n",
       "      <td>1</td>\n",
       "    </tr>\n",
       "  </tbody>\n",
       "</table>\n",
       "</div>"
      ],
      "text/plain": [
       "   ApplicantIncome  CoapplicantIncome  LoanAmount  Loan_Amount_Term  \\\n",
       "0             5849                0.0  146.412162             360.0   \n",
       "1             4583             1508.0  128.000000             360.0   \n",
       "2             3000                0.0   66.000000             360.0   \n",
       "3             2583             2358.0  120.000000             360.0   \n",
       "4             6000                0.0  141.000000             360.0   \n",
       "\n",
       "   Gender_Male  Married_Yes  Education_Not Graduate  Dependents_1  \\\n",
       "0            1            0                       0             0   \n",
       "1            1            1                       0             1   \n",
       "2            1            1                       0             0   \n",
       "3            1            1                       1             0   \n",
       "4            1            0                       0             0   \n",
       "\n",
       "   Dependents_2  Dependents_3+  Self_Employed_Yes  Property_Area_Semiurban  \\\n",
       "0             0              0                  0                        0   \n",
       "1             0              0                  0                        0   \n",
       "2             0              0                  1                        0   \n",
       "3             0              0                  0                        0   \n",
       "4             0              0                  0                        0   \n",
       "\n",
       "   Property_Area_Urban  Credit_History_0.8421985815602837  Credit_History_1.0  \\\n",
       "0                    1                                  0                   1   \n",
       "1                    0                                  0                   1   \n",
       "2                    1                                  0                   1   \n",
       "3                    1                                  0                   1   \n",
       "4                    1                                  0                   1   \n",
       "\n",
       "   Loan_Status_Y  \n",
       "0              1  \n",
       "1              0  \n",
       "2              1  \n",
       "3              1  \n",
       "4              1  "
      ]
     },
     "execution_count": 11,
     "metadata": {},
     "output_type": "execute_result"
    }
   ],
   "source": [
    "columns = ['Gender', 'Married', 'Education', 'Dependents',\n",
    "           'Self_Employed','Property_Area', 'Credit_History', 'Loan_Status']\n",
    "\n",
    "data = pd.get_dummies(data, columns = columns, drop_first=True)\n",
    "data.head()"
   ]
  },
  {
   "cell_type": "code",
   "execution_count": 12,
   "metadata": {},
   "outputs": [
    {
     "data": {
      "text/html": [
       "<div>\n",
       "<style scoped>\n",
       "    .dataframe tbody tr th:only-of-type {\n",
       "        vertical-align: middle;\n",
       "    }\n",
       "\n",
       "    .dataframe tbody tr th {\n",
       "        vertical-align: top;\n",
       "    }\n",
       "\n",
       "    .dataframe thead th {\n",
       "        text-align: right;\n",
       "    }\n",
       "</style>\n",
       "<table border=\"1\" class=\"dataframe\">\n",
       "  <thead>\n",
       "    <tr style=\"text-align: right;\">\n",
       "      <th></th>\n",
       "      <th>ApplicantIncome</th>\n",
       "      <th>CoapplicantIncome</th>\n",
       "      <th>LoanAmount</th>\n",
       "      <th>Loan_Amount_Term</th>\n",
       "      <th>Gender_Male</th>\n",
       "      <th>Married_Yes</th>\n",
       "      <th>Education_Not Graduate</th>\n",
       "      <th>Dependents_1</th>\n",
       "      <th>Dependents_2</th>\n",
       "      <th>Dependents_3+</th>\n",
       "      <th>Self_Employed_Yes</th>\n",
       "      <th>Property_Area_Semiurban</th>\n",
       "      <th>Property_Area_Urban</th>\n",
       "      <th>Credit_History_0.8421985815602837</th>\n",
       "      <th>Credit_History_1.0</th>\n",
       "    </tr>\n",
       "  </thead>\n",
       "  <tbody>\n",
       "    <tr>\n",
       "      <th>0</th>\n",
       "      <td>5849</td>\n",
       "      <td>0.0</td>\n",
       "      <td>146.412162</td>\n",
       "      <td>360.0</td>\n",
       "      <td>1</td>\n",
       "      <td>0</td>\n",
       "      <td>0</td>\n",
       "      <td>0</td>\n",
       "      <td>0</td>\n",
       "      <td>0</td>\n",
       "      <td>0</td>\n",
       "      <td>0</td>\n",
       "      <td>1</td>\n",
       "      <td>0</td>\n",
       "      <td>1</td>\n",
       "    </tr>\n",
       "    <tr>\n",
       "      <th>1</th>\n",
       "      <td>4583</td>\n",
       "      <td>1508.0</td>\n",
       "      <td>128.000000</td>\n",
       "      <td>360.0</td>\n",
       "      <td>1</td>\n",
       "      <td>1</td>\n",
       "      <td>0</td>\n",
       "      <td>1</td>\n",
       "      <td>0</td>\n",
       "      <td>0</td>\n",
       "      <td>0</td>\n",
       "      <td>0</td>\n",
       "      <td>0</td>\n",
       "      <td>0</td>\n",
       "      <td>1</td>\n",
       "    </tr>\n",
       "    <tr>\n",
       "      <th>2</th>\n",
       "      <td>3000</td>\n",
       "      <td>0.0</td>\n",
       "      <td>66.000000</td>\n",
       "      <td>360.0</td>\n",
       "      <td>1</td>\n",
       "      <td>1</td>\n",
       "      <td>0</td>\n",
       "      <td>0</td>\n",
       "      <td>0</td>\n",
       "      <td>0</td>\n",
       "      <td>1</td>\n",
       "      <td>0</td>\n",
       "      <td>1</td>\n",
       "      <td>0</td>\n",
       "      <td>1</td>\n",
       "    </tr>\n",
       "    <tr>\n",
       "      <th>3</th>\n",
       "      <td>2583</td>\n",
       "      <td>2358.0</td>\n",
       "      <td>120.000000</td>\n",
       "      <td>360.0</td>\n",
       "      <td>1</td>\n",
       "      <td>1</td>\n",
       "      <td>1</td>\n",
       "      <td>0</td>\n",
       "      <td>0</td>\n",
       "      <td>0</td>\n",
       "      <td>0</td>\n",
       "      <td>0</td>\n",
       "      <td>1</td>\n",
       "      <td>0</td>\n",
       "      <td>1</td>\n",
       "    </tr>\n",
       "    <tr>\n",
       "      <th>4</th>\n",
       "      <td>6000</td>\n",
       "      <td>0.0</td>\n",
       "      <td>141.000000</td>\n",
       "      <td>360.0</td>\n",
       "      <td>1</td>\n",
       "      <td>0</td>\n",
       "      <td>0</td>\n",
       "      <td>0</td>\n",
       "      <td>0</td>\n",
       "      <td>0</td>\n",
       "      <td>0</td>\n",
       "      <td>0</td>\n",
       "      <td>1</td>\n",
       "      <td>0</td>\n",
       "      <td>1</td>\n",
       "    </tr>\n",
       "  </tbody>\n",
       "</table>\n",
       "</div>"
      ],
      "text/plain": [
       "   ApplicantIncome  CoapplicantIncome  LoanAmount  Loan_Amount_Term  \\\n",
       "0             5849                0.0  146.412162             360.0   \n",
       "1             4583             1508.0  128.000000             360.0   \n",
       "2             3000                0.0   66.000000             360.0   \n",
       "3             2583             2358.0  120.000000             360.0   \n",
       "4             6000                0.0  141.000000             360.0   \n",
       "\n",
       "   Gender_Male  Married_Yes  Education_Not Graduate  Dependents_1  \\\n",
       "0            1            0                       0             0   \n",
       "1            1            1                       0             1   \n",
       "2            1            1                       0             0   \n",
       "3            1            1                       1             0   \n",
       "4            1            0                       0             0   \n",
       "\n",
       "   Dependents_2  Dependents_3+  Self_Employed_Yes  Property_Area_Semiurban  \\\n",
       "0             0              0                  0                        0   \n",
       "1             0              0                  0                        0   \n",
       "2             0              0                  1                        0   \n",
       "3             0              0                  0                        0   \n",
       "4             0              0                  0                        0   \n",
       "\n",
       "   Property_Area_Urban  Credit_History_0.8421985815602837  Credit_History_1.0  \n",
       "0                    1                                  0                   1  \n",
       "1                    0                                  0                   1  \n",
       "2                    1                                  0                   1  \n",
       "3                    1                                  0                   1  \n",
       "4                    1                                  0                   1  "
      ]
     },
     "execution_count": 12,
     "metadata": {},
     "output_type": "execute_result"
    }
   ],
   "source": [
    "# Separate the independant variables from the target\n",
    "X = data.drop('Loan_Status_Y', axis=1)\n",
    "\n",
    "Y = data[['Loan_Status_Y']]\n",
    "\n",
    "X.head()"
   ]
  },
  {
   "cell_type": "markdown",
   "metadata": {},
   "source": [
    "First, we'll split the data set into a train and test set. <br>\n",
    "\n",
    "Then, we'll normalize the numerical data as they have a wide rande of values (the applicant income goes up to 81 000$ while the 'Married' variable will only take the values 0 and 1). <br>\n",
    "Note than we don't normalize the target variable as its value is either 0 or 1."
   ]
  },
  {
   "cell_type": "code",
   "execution_count": 13,
   "metadata": {},
   "outputs": [
    {
     "data": {
      "text/plain": [
       "((429, 15), (185, 15))"
      ]
     },
     "execution_count": 13,
     "metadata": {},
     "output_type": "execute_result"
    }
   ],
   "source": [
    "# Split the data set\n",
    "X_train, X_test, y_train, y_test = train_test_split(X, Y, test_size = 0.3, \n",
    "                                                    random_state = 53)\n",
    "X_train.shape, X_test.shape"
   ]
  },
  {
   "cell_type": "code",
   "execution_count": 14,
   "metadata": {},
   "outputs": [],
   "source": [
    "# Scale the numerical variables\n",
    "from sklearn.preprocessing import StandardScaler\n",
    "\n",
    "sc = StandardScaler()\n",
    "\n",
    "X_train = sc.fit_transform(X_train)\n",
    "X_test = sc.transform(X_test)"
   ]
  },
  {
   "cell_type": "markdown",
   "metadata": {},
   "source": [
    "__MODELING THE CLASSIFIERS__"
   ]
  },
  {
   "cell_type": "markdown",
   "metadata": {},
   "source": [
    "The classifiers we'll use are :<br>\n",
    "    . K Nearest Neighbors<br>\n",
    "    . Logistic regression<br>\n",
    "    . Decision tree"
   ]
  },
  {
   "cell_type": "markdown",
   "metadata": {},
   "source": [
    "- K Nearest Neighbors"
   ]
  },
  {
   "cell_type": "code",
   "execution_count": 15,
   "metadata": {},
   "outputs": [
    {
     "name": "stdout",
     "output_type": "stream",
     "text": [
      "Accuracy on train set : 0.8275058275058275\n",
      "Accuracy on test set : 0.7189189189189189\n"
     ]
    }
   ],
   "source": [
    "knn = KNeighborsClassifier(n_neighbors=5)\n",
    "knn.fit(X_train, y_train)\n",
    "\n",
    "print('Accuracy on train set :', knn.score(X_train, y_train))\n",
    "print('Accuracy on test set :', knn.score(X_test, y_test))"
   ]
  },
  {
   "cell_type": "markdown",
   "metadata": {},
   "source": [
    "The difference in accuracy between the train and test set shows our model tends to overfit the data : it is well suited to the training set but doesn't generalize to new examples with the same level of precision.\n",
    "With some parameter-optimisation, we might be able to get better results."
   ]
  },
  {
   "cell_type": "code",
   "execution_count": 16,
   "metadata": {},
   "outputs": [
    {
     "name": "stdout",
     "output_type": "stream",
     "text": [
      "The highest accuracy on the test data is 0.735135\n",
      "It is obtained with a KNN classifier of 3 neighbors\n"
     ]
    }
   ],
   "source": [
    "# Compute the test & train accuracy with different number of k\n",
    "K = 15\n",
    "train_score = np.zeros(K-1)\n",
    "test_score = np.zeros(K-1)\n",
    "\n",
    "for k in np.arange(1, K) :\n",
    "    knn = KNeighborsClassifier(n_neighbors = k)\n",
    "    knn.fit(X_train, y_train)\n",
    "    train_score[k-1] =  knn.score(X_train, y_train)\n",
    "    test_score[k-1] = knn.score(X_test, y_test)\n",
    "\n",
    "print('The highest accuracy on the test data is %f' %(np.max(test_score))) \n",
    "print('It is obtained with a KNN classifier of %d neighbors' %(np.argmax(test_score)+1))"
   ]
  },
  {
   "cell_type": "code",
   "execution_count": 17,
   "metadata": {},
   "outputs": [
    {
     "data": {
      "image/png": "[encoded data removed]",
      "text/plain": [
       "<Figure size 648x360 with 1 Axes>"
      ]
     },
     "metadata": {
      "needs_background": "light"
     },
     "output_type": "display_data"
    }
   ],
   "source": [
    "# Graph of the train and test accuracy\n",
    "plt.figure(figsize=(9, 5))\n",
    "\n",
    "plt.plot(np.arange(1, K), train_score, label='Train set score')\n",
    "plt.plot(np.arange(1, K), test_score, label='Test set score')\n",
    "\n",
    "# Annotate the graph\n",
    "plt.annotate('Overfitting', (1.3, 0.78), fontsize = 12)\n",
    "plt.annotate('Underfitting', (11.5, 0.73), fontsize = 12)\n",
    "\n",
    "# Annotation and arrow\n",
    "plt.annotate('Maximal accuracy', fontsize = 12, xytext = (6, 0.85),\n",
    "             xy = (np.argmax(test_score)+1, np.max(test_score)),\n",
    "             arrowprops = {'width' : 2, 'facecolor' : 'black'}, \n",
    "             horizontalalignment=\"center\")\n",
    "       \n",
    "# Set axis, legend, title\n",
    "plt.ylabel('accuracy')\n",
    "plt.xlabel('number of neighbors')\n",
    "plt.title ('Accuracy with various values of k')\n",
    "plt.legend(prop={'size':12})\n",
    "\n",
    "plt.show()"
   ]
  },
  {
   "cell_type": "markdown",
   "metadata": {},
   "source": [
    "At k = 3, the model reaches an accuracy of 0.84 on the training set, and 0.73 on the testing set. <br>\n",
    "Using more neighbors would deteriorate the performance of our algorithm, as it would tend to smooth the decision boundary too much, and thus underestimate the complexity of the data."
   ]
  },
  {
   "cell_type": "markdown",
   "metadata": {},
   "source": [
    "- Logistic Regression"
   ]
  },
  {
   "cell_type": "code",
   "execution_count": 18,
   "metadata": {},
   "outputs": [
    {
     "name": "stdout",
     "output_type": "stream",
     "text": [
      "Logistic train set accuracy : 0.8088578088578089\n",
      "Logistic test set accuracy : 0.7621621621621621 \n",
      "\n"
     ]
    }
   ],
   "source": [
    "logreg = LogisticRegression(C = 0.01, max_iter = 30, tol = 0.01)\n",
    "\n",
    "logreg.fit(X_train, y_train)\n",
    "\n",
    "print('Logistic train set accuracy :', logreg.score(X_train, y_train))\n",
    "print('Logistic test set accuracy :', logreg.score(X_test, y_test), '\\n')"
   ]
  },
  {
   "cell_type": "markdown",
   "metadata": {},
   "source": [
    "The Logistic model did perform sligthly better than the KNN algorithm on the test set (0.76 vs 0.72 before parameter optimisation). Let's perform a Grid Search to find the optimal parameters for the Logistic Regression classifier, and enhance its accuracy."
   ]
  },
  {
   "cell_type": "markdown",
   "metadata": {},
   "source": [
    "- Grid Search"
   ]
  },
  {
   "cell_type": "code",
   "execution_count": 19,
   "metadata": {},
   "outputs": [
    {
     "name": "stdout",
     "output_type": "stream",
     "text": [
      "Optimal parameters : {'C': 0.334, 'max_iter': 10, 'tol': 0.01} \n",
      "\n",
      "Grid search train accuracy 0.8298368298368298\n",
      "Grid search test accuracy 0.772972972972973\n"
     ]
    }
   ],
   "source": [
    "params = dict(C = np.linspace(0.001, 1, 10), tol = [0.01, 0.001, 0.0001], \n",
    "          max_iter = np.arange(10, 50, 10))\n",
    "\n",
    "log_grid = GridSearchCV(LogisticRegression(), params, cv=5)\n",
    "\n",
    "log_grid.fit(X_train, y_train)\n",
    "\n",
    "print('Optimal parameters :', log_grid.best_params_, '\\n')\n",
    "print('Grid search train accuracy', log_grid.score(X_train, y_train))\n",
    "print('Grid search test accuracy', log_grid.score(X_test, y_test))"
   ]
  },
  {
   "cell_type": "markdown",
   "metadata": {},
   "source": [
    "The model obtained with a Grid Search has a higher accuracy both on the training and testing data.<br>\n",
    "The Logistic regression algorithm performs better than our KNN classifier with 3 neighbors, at least on the test set (0.73 for the KNN compared to 0.77 for the Logistic classifier)."
   ]
  },
  {
   "cell_type": "markdown",
   "metadata": {},
   "source": [
    "- Decision Tree"
   ]
  },
  {
   "cell_type": "code",
   "execution_count": 20,
   "metadata": {},
   "outputs": [
    {
     "name": "stdout",
     "output_type": "stream",
     "text": [
      "Decision Tree accuracy on the train set  1.0\n",
      "Decision Tree accuracy on the test set  0.7567567567567568\n"
     ]
    }
   ],
   "source": [
    "tree = DecisionTreeClassifier(random_state=53)\n",
    "\n",
    "tree.fit(X_train, y_train)\n",
    "\n",
    "print('Decision Tree accuracy on the train set ', tree.score(X_train, y_train))\n",
    "print('Decision Tree accuracy on the test set ', tree.score(X_test, y_test))"
   ]
  },
  {
   "cell_type": "markdown",
   "metadata": {},
   "source": [
    "As we can see, the Decision Tree is able to perfectly map and predict the data on the test set, but it's not the case on a new data set it has never encountered. Its accuracy falls from 1 to 0.76 in this case.<br>\n",
    "As for the previous algorithm, we'll perform a GridSearch to find the optimal parameters."
   ]
  },
  {
   "cell_type": "code",
   "execution_count": 21,
   "metadata": {},
   "outputs": [
    {
     "name": "stdout",
     "output_type": "stream",
     "text": [
      "Optimal parameters : {'criterion': 'gini', 'max_depth': 2, 'min_samples_leaf': 1} \n",
      "\n",
      "Grid search train accuracy 0.8181818181818182\n",
      "Grid search test accuracy 0.7891891891891892\n"
     ]
    }
   ],
   "source": [
    "# Grid search to improve the Decision Tree\n",
    "\n",
    "params = dict(criterion = ['gini', 'entropy'], max_depth = np.arange(1, 5), \n",
    "              min_samples_leaf = np.arange(1, 5))\n",
    "\n",
    "tree_grid = GridSearchCV(DecisionTreeClassifier(random_state=53), \n",
    "                         params, cv=5)\n",
    "\n",
    "tree_grid.fit(X_train, y_train)\n",
    "\n",
    "print('Optimal parameters :', tree_grid.best_params_, '\\n')\n",
    "print('Grid search train accuracy', tree_grid.score(X_train, y_train))\n",
    "print('Grid search test accuracy', tree_grid.score(X_test, y_test))"
   ]
  },
  {
   "cell_type": "markdown",
   "metadata": {},
   "source": [
    "Overall, if we only look at the accuracy of our models on the test data, the Decision Tree comes first with a score of 0.77, then the Logistic classifier with 0.78 and finally the KNN comes last with 0.74. "
   ]
  },
  {
   "cell_type": "markdown",
   "metadata": {},
   "source": [
    "- Visualise the decision tree"
   ]
  },
  {
   "cell_type": "code",
   "execution_count": 22,
   "metadata": {},
   "outputs": [
    {
     "data": {
      "image/png": "[encoded data removed]",
      "text/plain": [
       "<IPython.core.display.Image object>"
      ]
     },
     "execution_count": 22,
     "metadata": {},
     "output_type": "execute_result"
    }
   ],
   "source": [
    "from sklearn.externals.six import StringIO\n",
    "from sklearn import tree\n",
    "from IPython.display import Image  \n",
    "from sklearn.tree import export_graphviz\n",
    "import pydotplus\n",
    "\n",
    "dot_data = StringIO()\n",
    "\n",
    "loan_tree = DecisionTreeClassifier(criterion='entropy', max_depth=2, random_state=53)\n",
    "loan_tree.fit(X_train, y_train)\n",
    "\n",
    "featureNames = X.columns\n",
    "#targetNames = Y.nunique().tolist()\n",
    "out=tree.export_graphviz(loan_tree, feature_names=featureNames, out_file=dot_data, \n",
    "                         class_names= ['No', 'Yes'], filled=True,\n",
    "                         special_characters=True,rotate=False)\n",
    "    \n",
    "graph = pydotplus.graph_from_dot_data(dot_data.getvalue())  \n",
    "\n",
    "Image(graph.create_png())"
   ]
  },
  {
   "cell_type": "markdown",
   "metadata": {},
   "source": [
    "The 'value' row in each cell tells us the number of values that were classified as [No, Yes]."
   ]
  },
  {
   "cell_type": "markdown",
   "metadata": {},
   "source": [
    "In order to better understand which predictor variables did have an effect on the algorithm's performances, let's use the feature_importance attribute of sklearn on this classifier."
   ]
  },
  {
   "cell_type": "code",
   "execution_count": 23,
   "metadata": {},
   "outputs": [
    {
     "data": {
      "image/png": "[encoded data removed]",
      "text/plain": [
       "<Figure size 720x360 with 1 Axes>"
      ]
     },
     "metadata": {
      "needs_background": "light"
     },
     "output_type": "display_data"
    }
   ],
   "source": [
    "# Train the decision tree\n",
    "tree = DecisionTreeClassifier(random_state=53)\n",
    "tree.fit(X_train, y_train)\n",
    "\n",
    "# List of the importance of each feature\n",
    "weights = tree.feature_importances_\n",
    "features = list(X.columns.values)\n",
    "\n",
    "# Bar plot of the features weights\n",
    "plt.figure(figsize=(10, 5))\n",
    "\n",
    "plt.barh(range(len(weights)), weights, height=0.5)\n",
    "\n",
    "plt.yticks(ticks = range(len(features)), labels = features)\n",
    "plt.title('Features importance in the Decision Tree')\n",
    "\n",
    "plt.show()"
   ]
  },
  {
   "cell_type": "markdown",
   "metadata": {},
   "source": [
    "It's interesting to note that in order to predict whether a loan will be granted or not to an individual, three factors account for more than 60% of the classification : <br>\n",
    "    . The credit history <br>\n",
    "    . The applicant income <br>\n",
    "    . The loan amount <br>\n",
    "\n",
    "As we can see the individual characteristics (education, marital situation, gender) don't carry much weight in the outcome. It would have been interesting however, to have more details about the applicant's current professional situation (does he have a permanant contract or a fixed-term one for example), as such a parameter might be crucial for the outcome."
   ]
  },
  {
   "cell_type": "markdown",
   "metadata": {},
   "source": [
    "__MODEL COMPARISON__"
   ]
  },
  {
   "cell_type": "markdown",
   "metadata": {},
   "source": [
    "- Confusion matrix\n",
    "\n",
    "This matrix is a measure of performance, presented as a table of comparison between the predicted values (0/1) and the expected values (0/1). It is useful for us to measure the precision and accuracy of our model but also for other performance measurement tools such as ROC Curve that we'll use just after. <br>\n",
    "\n",
    "Let's just remember that : <br>\n",
    "    . Precision = out of all the classes we predicted as positive (prediction = Yes), how many are correct. <br>\n",
    "    . Recall = out of all the positive classes (loan = Yes), how many did we predict correctly. "
   ]
  },
  {
   "cell_type": "code",
   "execution_count": 24,
   "metadata": {},
   "outputs": [],
   "source": [
    "# Compute confusion matrixes\n",
    "knn_pred = knn.predict(X_test)\n",
    "cm_knn = confusion_matrix(y_test, knn_pred)\n",
    "\n",
    "logreg_pred = log_grid.predict(X_test)\n",
    "cm_log = confusion_matrix(y_test, logreg_pred)\n",
    "\n",
    "tree_pred = tree_grid.predict(X_test)\n",
    "cm_tree = confusion_matrix(y_test, tree_pred)"
   ]
  },
  {
   "cell_type": "code",
   "execution_count": 25,
   "metadata": {},
   "outputs": [
    {
     "data": {
      "image/png": "[encoded data removed]",
      "text/plain": [
       "<Figure size 1080x432 with 3 Axes>"
      ]
     },
     "metadata": {
      "needs_background": "light"
     },
     "output_type": "display_data"
    }
   ],
   "source": [
    "# Graph of the confusion matrixes\n",
    "fig = plt.figure(figsize=(15, 6))\n",
    "\n",
    "data = [cm_knn, cm_log, cm_tree]\n",
    "title = ['KNN', 'Logistic regression', 'Decision Tree']\n",
    "\n",
    "# Heatmap for each classifier\n",
    "for i in range(1, 4) :\n",
    "    ax = fig.add_subplot(1, 3, i)\n",
    "    \n",
    "    sns.heatmap(data[i-1], annot=True, fmt=\"d\", cmap=\"Blues\", cbar=False)\n",
    "    \n",
    "    ax.set_title(title[i-1], size=14)\n",
    "    ax.xaxis.set_ticklabels(['Yes', 'No'])\n",
    "    ax.yaxis.set_ticklabels(['Yes', 'No'])\n",
    "\n",
    "# Set labels\n",
    "fig.text(0.5, -0.02, 'Predicted labels', ha='center', size=12, alpha=0.6)\n",
    "fig.text(-0.01, 0.5, 'True labels', va='center', \n",
    "         rotation='vertical', size=12, alpha=0.6)\n",
    "\n",
    "# Set title\n",
    "fig.suptitle('Confusion Matrixes', size=18)\n",
    "fig.tight_layout()\n",
    "fig.subplots_adjust(top=0.86)\n",
    "\n",
    "plt.show()"
   ]
  },
  {
   "attachments": {
    "image.png": {
     "image/png": "[encoded data removed]"
    }
   },
   "cell_type": "markdown",
   "metadata": {},
   "source": [
    "<br>\n",
    "\n",
    "- Precision, Recall and F1-Score \n",
    "\n",
    "![image.png](attachment:image.png)\n",
    "\n",
    "The F-score (or F1) takes in account Precision and Recall at the same time : it uses Harmonic Mean instead of Arithmetic Mean.<br>\n",
    "An algorithm with a very low score in either metrics will therefore obtain a low F-score, even if the other metrics are high. For example if the Recall is 0, the F1 will be 0 regardless to the Precision.<br>\n",
    "It ensures the classifier detects a lot of positive classes (high recall), and don't commit too many errors of prediction on this class (high precision). \n",
    "<br> <br>\n",
    "\n",
    "We'll compute and plot the recall, precision and F1-score of each of the previous models and compare the results."
   ]
  },
  {
   "cell_type": "code",
   "execution_count": 26,
   "metadata": {},
   "outputs": [],
   "source": [
    "#KNN scores\n",
    "knn_scores = [precision_score(y_test, knn_pred), \n",
    "              recall_score(y_test, knn_pred), \n",
    "              f1_score(y_test, knn_pred)]\n",
    "\n",
    "# Logistic regression scores\n",
    "log_scores = [precision_score(y_test, logreg_pred), \n",
    "              recall_score(y_test, logreg_pred), \n",
    "              f1_score(y_test, logreg_pred)]\n",
    "\n",
    "# Decision tree scores\n",
    "tree_scores = [precision_score(y_test, tree_pred), \n",
    "               recall_score(y_test, tree_pred), \n",
    "               f1_score(y_test, tree_pred)]\n",
    "\n",
    "# Group each score\n",
    "precision = [knn_scores[0], log_scores[0], tree_scores[0]]\n",
    "recall = [knn_scores[1], log_scores[1], tree_scores[1]]\n",
    "f1_score =[knn_scores[2], log_scores[2], tree_scores[2]]"
   ]
  },
  {
   "cell_type": "code",
   "execution_count": 27,
   "metadata": {},
   "outputs": [
    {
     "data": {
      "image/png": "[encoded data removed]",
      "text/plain": [
       "<Figure size 576x360 with 1 Axes>"
      ]
     },
     "metadata": {
      "needs_background": "light"
     },
     "output_type": "display_data"
    }
   ],
   "source": [
    "# Graph to compare each model performance\n",
    "fig = plt.figure(figsize=(8, 5))\n",
    "ax = fig.add_subplot(1, 1, 1)\n",
    "\n",
    "width = 0.1\n",
    "x = np.arange(1, 4)\n",
    "\n",
    "# Bar plot for each metrics\n",
    "ax.bar(x - 0.15, precision, width, label='precision')\n",
    "ax.bar(x, recall, width, label='recall')\n",
    "ax.bar(x + 0.15, f1_score, width, label='F1-score')\n",
    "\n",
    "# Annotate the graph\n",
    "ax.annotate('{:.0%}'.format(max(precision)),\n",
    "            xy=(2.8, 0.8), xytext=(2.76, 0.778))\n",
    "\n",
    "ax.annotate('{:.0%}'.format(max(recall)),\n",
    "            xy=(3, 0.95), xytext=(2.93, 0.99))\n",
    "\n",
    "ax.annotate('{:.0%}'.format(max(f1_score)),\n",
    "            xy=(3.2, 0.86), xytext=(3.08, 0.87))\n",
    "\n",
    "# Set title, axis, label\n",
    "plt.xticks(x, labels=('KNN', 'Logistic Regression', 'Decision Tree'))\n",
    "plt.ylabel('score')\n",
    "plt.legend(loc='best')\n",
    "plt.xlim(0.5, 4)\n",
    "plt.ylim(0.6, 1.05)\n",
    "\n",
    "plt.show()"
   ]
  },
  {
   "cell_type": "markdown",
   "metadata": {},
   "source": [
    "- ROC Curve and AUC\n",
    "\n",
    "The ROC (Receiver Operating Characteristics) curve is a performance measurement tool, which tells how much the model can distinguish between classes (Yes or No in our case).\n",
    "It is the graph of the True Positive rate (TPR, y-axis) with respect to the False Positive rate (DPR, x-axis).\n",
    "\n",
    "The AUC (Area Under the Curve), is the area under the ROC curve : the higher the area, the better is the model. It represents the proportion, the degree of separability between classes.\n",
    "\n",
    "When AUC is 1, we can perfectly distinguish the positive from the negative class.\n",
    "When AUC is 0.8, it means there is 80% chance that our model will be able to distinguish between the two classes.\n",
    "When AUC is approximately 0.5, model has no discrimination capacity to distinguish between positive and negative class : it performs no better than random chance."
   ]
  },
  {
   "cell_type": "code",
   "execution_count": 28,
   "metadata": {},
   "outputs": [
    {
     "data": {
      "image/png": "[encoded data removed]",
      "text/plain": [
       "<Figure size 720x432 with 1 Axes>"
      ]
     },
     "metadata": {
      "needs_background": "light"
     },
     "output_type": "display_data"
    }
   ],
   "source": [
    "# Graph of the ROC curve\n",
    "plt.figure(figsize=(10, 6))\n",
    "\n",
    "#Diagonal line\n",
    "plt.plot([0, 1], [0, 1], 'k-.', lw=1, label='Random chance')\n",
    "plt.legend()\n",
    "\n",
    "# Log reg curve\n",
    "logreg_pred = logreg.predict_proba(X_test)[:,1]\n",
    "fp, tp, _ = roc_curve(y_test, logreg_pred)\n",
    "plt.plot(fp, tp, label='Logistic Regression, AUC = %.02f' %auc(fp, tp))\n",
    "\n",
    "# KNN curve\n",
    "knn_pred_proba = knn.predict_proba(X_test)[:,1]\n",
    "fp_knn, tp_knn, _ = roc_curve(y_test, knn_pred_proba)\n",
    "plt.plot(fp_knn, tp_knn, label=\"K Nearest Neighbors, AUC = %.02f\" %auc(fp_knn, tp_knn))\n",
    "\n",
    "# Decision tree curve\n",
    "tree_pred_proba = tree_grid.predict_proba(X_test)[:,1]\n",
    "fp_tree, tp_tree, _ = roc_curve(y_test, tree_pred_proba)\n",
    "plt.plot(fp_tree, tp_tree, label='Decision Tree, AUC = %.02f' %auc(fp_tree, tp_tree))\n",
    "\n",
    "#Set title, axis, legend\n",
    "plt.xlabel('False positive rate')\n",
    "plt.ylabel('True positive rate')\n",
    "plt.title('ROC curves')\n",
    "plt.legend()\n",
    "\n",
    "plt.show()"
   ]
  }
 ],
 "metadata": {
  "kernelspec": {
   "display_name": "Python 3",
   "language": "python",
   "name": "python3"
  },
  "language_info": {
   "codemirror_mode": {
    "name": "ipython",
    "version": 3
   },
   "file_extension": ".py",
   "mimetype": "text/x-python",
   "name": "python",
   "nbconvert_exporter": "python",
   "pygments_lexer": "ipython3",
   "version": "3.7.1"
  }
 },
 "nbformat": 4,
 "nbformat_minor": 2
}
